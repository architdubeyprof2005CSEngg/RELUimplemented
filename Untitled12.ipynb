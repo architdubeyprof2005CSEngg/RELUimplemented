{
  "nbformat": 4,
  "nbformat_minor": 0,
  "metadata": {
    "colab": {
      "provenance": [],
      "authorship_tag": "ABX9TyPOzyrCM+KyoVv7MmTbT0S4",
      "include_colab_link": true
    },
    "kernelspec": {
      "name": "python3",
      "display_name": "Python 3"
    },
    "language_info": {
      "name": "python"
    }
  },
  "cells": [
    {
      "cell_type": "markdown",
      "metadata": {
        "id": "view-in-github",
        "colab_type": "text"
      },
      "source": [
        "<a href=\"https://colab.research.google.com/github/architdubeyprof2005CSEngg/RELUimplemented/blob/main/Untitled12.ipynb\" target=\"_parent\"><img src=\"https://colab.research.google.com/assets/colab-badge.svg\" alt=\"Open In Colab\"/></a>"
      ]
    },
    {
      "cell_type": "code",
      "execution_count": null,
      "metadata": {
        "colab": {
          "base_uri": "https://localhost:8080/"
        },
        "id": "eM1yryq6pRWD",
        "outputId": "5770bdf1-0375-4d52-ffc8-2f73f46300a1"
      },
      "outputs": [
        {
          "output_type": "stream",
          "name": "stdout",
          "text": [
            "4\n",
            "1.3\n",
            "-2.0\n",
            "3\n",
            "0.0000004\n",
            "[1.3, -2.0, 3.0, 4e-07]\n",
            "[1.3, 0, 3.0, 4e-07]\n"
          ]
        }
      ],
      "source": [
        "no_of_input_ = int(input(\"\"))\n",
        "li = []\n",
        "for i in range(no_of_input_):\n",
        "    li.append(float(input(\"\")))\n",
        "print(li)\n",
        "\n",
        "def activation(li,name):\n",
        "  if name.lower() == \"relu\":\n",
        "    final = []\n",
        "    for i in li:\n",
        "      value = max(0,i)\n",
        "      final.append(value)\n",
        "  return final\n",
        "\n",
        "l2 = activation(li,\"relu\")\n",
        "print(l2)\n",
        "\n"
      ]
    }
  ]
}